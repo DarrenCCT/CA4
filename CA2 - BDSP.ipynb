{
 "cells": [
  {
   "cell_type": "code",
   "execution_count": 37,
   "id": "12a4a9c6",
   "metadata": {},
   "outputs": [],
   "source": [
    "from pyspark.sql import SparkSession\n",
    "from pyspark.sql.functions import year"
   ]
  },
  {
   "cell_type": "code",
   "execution_count": 28,
   "id": "9ef0fb67",
   "metadata": {
    "scrolled": true
   },
   "outputs": [
    {
     "data": {
      "text/html": [
       "\n",
       "        <div>\n",
       "            <p><b>SparkContext</b></p>\n",
       "\n",
       "            <p><a href=\"http://10.0.2.15:4040\">Spark UI</a></p>\n",
       "\n",
       "            <dl>\n",
       "              <dt>Version</dt>\n",
       "                <dd><code>v3.2.3</code></dd>\n",
       "              <dt>Master</dt>\n",
       "                <dd><code>local[*]</code></dd>\n",
       "              <dt>AppName</dt>\n",
       "                <dd><code>PySparkShell</code></dd>\n",
       "            </dl>\n",
       "        </div>\n",
       "        "
      ],
      "text/plain": [
       "<SparkContext master=local[*] appName=PySparkShell>"
      ]
     },
     "execution_count": 28,
     "metadata": {},
     "output_type": "execute_result"
    }
   ],
   "source": [
    "sc"
   ]
  },
  {
   "cell_type": "code",
   "execution_count": 29,
   "id": "d8d5ebd2",
   "metadata": {},
   "outputs": [
    {
     "data": {
      "text/plain": [
       "'local[*]'"
      ]
     },
     "execution_count": 29,
     "metadata": {},
     "output_type": "execute_result"
    }
   ],
   "source": [
    "sc.master"
   ]
  },
  {
   "cell_type": "markdown",
   "id": "794300b7",
   "metadata": {},
   "source": [
    "# 1. Big Data Preprocessing"
   ]
  },
  {
   "cell_type": "code",
   "execution_count": 30,
   "id": "e2daf15f",
   "metadata": {},
   "outputs": [],
   "source": [
    "#Reading in csv file from Hadoop\n",
    "data = spark.read.csv(\"hdfs://localhost:9000/user1/elonmusk_tweets.csv\", header=True, inferSchema=True)"
   ]
  },
  {
   "cell_type": "code",
   "execution_count": 35,
   "id": "93993c62",
   "metadata": {},
   "outputs": [
    {
     "data": {
      "text/plain": [
       "Row(id=849636868052275200, created_at='2017-04-05 14:56:29', text=\"b'And so the robots spared humanity ... https://t.co/v7JUJQWfCv'\")"
      ]
     },
     "execution_count": 35,
     "metadata": {},
     "output_type": "execute_result"
    }
   ],
   "source": [
    "data.head()"
   ]
  },
  {
   "cell_type": "code",
   "execution_count": 36,
   "id": "e6707d82",
   "metadata": {},
   "outputs": [
    {
     "name": "stdout",
     "output_type": "stream",
     "text": [
      "+------------------+-------------------+--------------------+\n",
      "|                id|         created_at|                text|\n",
      "+------------------+-------------------+--------------------+\n",
      "|849636868052275200|2017-04-05 14:56:29|b'And so the robo...|\n",
      "|848988730585096192|2017-04-03 20:01:01|\"b\"\"@ForIn2020 @w...|\n",
      "|848943072423497728|2017-04-03 16:59:35|b'@waltmossberg @...|\n",
      "|848935705057280001|2017-04-03 16:30:19|b'Stormy weather ...|\n",
      "|848416049573658624|2017-04-02 06:05:23|\"b\"\"@DaveLeeBBC @...|\n",
      "|848415731502923777|2017-04-02 06:04:07|\"b\"\"@Lexxxzis It'...|\n",
      "|848415356263702528|2017-04-02 06:02:38|\"b\"\"@verge It won...|\n",
      "|848398971139629057|2017-04-02 04:57:31|b'@SuperCoolCube ...|\n",
      "|848244577521647616|2017-04-01 18:44:01|\"b\"\"Why did we wa...|\n",
      "|848243350993895424|2017-04-01 18:39:09|b'Technology brea...|\n",
      "|848239928043491328|2017-04-01 18:25:33|\"b\"\"RT @OpenAI: W...|\n",
      "|848239664536223745|2017-04-01 18:24:30|b'RT @ProfBrianCo...|\n",
      "|848036043240636417|2017-04-01 04:55:23|b'@adamsbj Def P1...|\n",
      "|847958571895619584|2017-03-31 23:47:32|b'@BadAstronomer ...|\n",
      "|847890916048338946|2017-03-31 19:18:42|b'@tesla_addict @...|\n",
      "|847884776719740928|2017-03-31 18:54:18|\"b\"\"@jasonlamb Lo...|\n",
      "|847884413706874880|2017-03-31 18:52:51|    b'@cheron A lot'|\n",
      "|847884351375372288|2017-03-31 18:52:36|b'@Cardoso Sillie...|\n",
      "|847883435100299267|2017-03-31 18:48:58|b'@redletterdave ...|\n",
      "|847882909906341888|2017-03-31 18:46:53|b'Falcon Heavy te...|\n",
      "+------------------+-------------------+--------------------+\n",
      "only showing top 20 rows\n",
      "\n"
     ]
    }
   ],
   "source": [
    "data.show()"
   ]
  },
  {
   "cell_type": "code",
   "execution_count": 38,
   "id": "a71145f4",
   "metadata": {},
   "outputs": [],
   "source": [
    "#Creating a Year column for easy access\n",
    "data = data.withColumn(\"Year\", year(\"created_at\"))"
   ]
  },
  {
   "cell_type": "code",
   "execution_count": 42,
   "id": "3a710099",
   "metadata": {},
   "outputs": [
    {
     "name": "stdout",
     "output_type": "stream",
     "text": [
      "<class 'pyspark.sql.dataframe.DataFrame'>\n"
     ]
    }
   ],
   "source": [
    "print(type(data))"
   ]
  },
  {
   "cell_type": "code",
   "execution_count": 40,
   "id": "9ee9258d",
   "metadata": {},
   "outputs": [
    {
     "name": "stdout",
     "output_type": "stream",
     "text": [
      "+------------------+-------------------+--------------------+----+\n",
      "|                id|         created_at|                text|Year|\n",
      "+------------------+-------------------+--------------------+----+\n",
      "|849636868052275200|2017-04-05 14:56:29|b'And so the robo...|2017|\n",
      "|848988730585096192|2017-04-03 20:01:01|\"b\"\"@ForIn2020 @w...|2017|\n",
      "|848943072423497728|2017-04-03 16:59:35|b'@waltmossberg @...|2017|\n",
      "|848935705057280001|2017-04-03 16:30:19|b'Stormy weather ...|2017|\n",
      "|848416049573658624|2017-04-02 06:05:23|\"b\"\"@DaveLeeBBC @...|2017|\n",
      "+------------------+-------------------+--------------------+----+\n",
      "only showing top 5 rows\n",
      "\n"
     ]
    }
   ],
   "source": [
    "#Checking it works\n",
    "data.show(5)"
   ]
  },
  {
   "cell_type": "code",
   "execution_count": 44,
   "id": "6bd0db8c",
   "metadata": {},
   "outputs": [],
   "source": [
    "#Creating a smaller dataframe to count the tweets per year\n",
    "yearCounts = data.groupBy(\"Year\").count().orderBy(\"Year\")"
   ]
  },
  {
   "cell_type": "code",
   "execution_count": 45,
   "id": "a750957e",
   "metadata": {},
   "outputs": [
    {
     "name": "stdout",
     "output_type": "stream",
     "text": [
      "+----+-----+\n",
      "|Year|count|\n",
      "+----+-----+\n",
      "|2010|    1|\n",
      "|2011|   44|\n",
      "|2012|  316|\n",
      "|2013|  478|\n",
      "|2014|  232|\n",
      "|2015|  436|\n",
      "|2016|  935|\n",
      "|2017|  377|\n",
      "+----+-----+\n",
      "\n"
     ]
    }
   ],
   "source": [
    "yearCounts.show()"
   ]
  },
  {
   "cell_type": "code",
   "execution_count": 51,
   "id": "419d67f0",
   "metadata": {},
   "outputs": [],
   "source": [
    "#Converting to Pandas to write to csv. Going to use this later\n",
    "years = yearCounts.toPandas()"
   ]
  },
  {
   "cell_type": "code",
   "execution_count": 53,
   "id": "3702e4b7",
   "metadata": {},
   "outputs": [],
   "source": [
    "years.to_csv(\"YearCount.csv\")"
   ]
  },
  {
   "cell_type": "code",
   "execution_count": 54,
   "id": "0df499cb",
   "metadata": {},
   "outputs": [
    {
     "name": "stdout",
     "output_type": "stream",
     "text": [
      "+------------------+-------------------+--------------------+----+\n",
      "|                id|         created_at|                text|Year|\n",
      "+------------------+-------------------+--------------------+----+\n",
      "|849636868052275200|2017-04-05 14:56:29|b'And so the robo...|2017|\n",
      "|848988730585096192|2017-04-03 20:01:01|\"b\"\"@ForIn2020 @w...|2017|\n",
      "|848943072423497728|2017-04-03 16:59:35|b'@waltmossberg @...|2017|\n",
      "|848935705057280001|2017-04-03 16:30:19|b'Stormy weather ...|2017|\n",
      "|848416049573658624|2017-04-02 06:05:23|\"b\"\"@DaveLeeBBC @...|2017|\n",
      "|848415731502923777|2017-04-02 06:04:07|\"b\"\"@Lexxxzis It'...|2017|\n",
      "|848415356263702528|2017-04-02 06:02:38|\"b\"\"@verge It won...|2017|\n",
      "|848398971139629057|2017-04-02 04:57:31|b'@SuperCoolCube ...|2017|\n",
      "|848244577521647616|2017-04-01 18:44:01|\"b\"\"Why did we wa...|2017|\n",
      "|848243350993895424|2017-04-01 18:39:09|b'Technology brea...|2017|\n",
      "|848239928043491328|2017-04-01 18:25:33|\"b\"\"RT @OpenAI: W...|2017|\n",
      "|848239664536223745|2017-04-01 18:24:30|b'RT @ProfBrianCo...|2017|\n",
      "|848036043240636417|2017-04-01 04:55:23|b'@adamsbj Def P1...|2017|\n",
      "|847958571895619584|2017-03-31 23:47:32|b'@BadAstronomer ...|2017|\n",
      "|847890916048338946|2017-03-31 19:18:42|b'@tesla_addict @...|2017|\n",
      "|847884776719740928|2017-03-31 18:54:18|\"b\"\"@jasonlamb Lo...|2017|\n",
      "|847884413706874880|2017-03-31 18:52:51|    b'@cheron A lot'|2017|\n",
      "|847884351375372288|2017-03-31 18:52:36|b'@Cardoso Sillie...|2017|\n",
      "|847883435100299267|2017-03-31 18:48:58|b'@redletterdave ...|2017|\n",
      "|847882909906341888|2017-03-31 18:46:53|b'Falcon Heavy te...|2017|\n",
      "+------------------+-------------------+--------------------+----+\n",
      "only showing top 20 rows\n",
      "\n"
     ]
    }
   ],
   "source": [
    "data.show()"
   ]
  },
  {
   "cell_type": "code",
   "execution_count": 55,
   "id": "a37a11d2",
   "metadata": {},
   "outputs": [],
   "source": [
    "#Seeing how many rows I have\n",
    "numRows = data.count()"
   ]
  },
  {
   "cell_type": "code",
   "execution_count": 56,
   "id": "470f400c",
   "metadata": {},
   "outputs": [
    {
     "data": {
      "text/plain": [
       "2819"
      ]
     },
     "execution_count": 56,
     "metadata": {},
     "output_type": "execute_result"
    }
   ],
   "source": [
    "numRows"
   ]
  },
  {
   "cell_type": "code",
   "execution_count": 57,
   "id": "5a8ba465",
   "metadata": {},
   "outputs": [],
   "source": [
    "#Dropping \"id\" column. Have no need for it\n",
    "data = data.drop(\"id\")"
   ]
  },
  {
   "cell_type": "code",
   "execution_count": 59,
   "id": "d2f77985",
   "metadata": {},
   "outputs": [
    {
     "name": "stdout",
     "output_type": "stream",
     "text": [
      "+-------------------+--------------------+----+\n",
      "|         created_at|                text|Year|\n",
      "+-------------------+--------------------+----+\n",
      "|2017-04-05 14:56:29|b'And so the robo...|2017|\n",
      "|2017-04-03 20:01:01|\"b\"\"@ForIn2020 @w...|2017|\n",
      "|2017-04-03 16:59:35|b'@waltmossberg @...|2017|\n",
      "|2017-04-03 16:30:19|b'Stormy weather ...|2017|\n",
      "|2017-04-02 06:05:23|\"b\"\"@DaveLeeBBC @...|2017|\n",
      "+-------------------+--------------------+----+\n",
      "only showing top 5 rows\n",
      "\n"
     ]
    }
   ],
   "source": [
    "#Checking it worked\n",
    "data.show(5)"
   ]
  },
  {
   "cell_type": "code",
   "execution_count": 62,
   "id": "33d071a2",
   "metadata": {},
   "outputs": [],
   "source": [
    "#206 has the most data so that's the one I will use\n",
    "data = data[data['Year'] == 2016]"
   ]
  },
  {
   "cell_type": "code",
   "execution_count": 63,
   "id": "774838fa",
   "metadata": {
    "scrolled": true
   },
   "outputs": [
    {
     "name": "stdout",
     "output_type": "stream",
     "text": [
      "+-------------------+--------------------+----+\n",
      "|         created_at|                text|Year|\n",
      "+-------------------+--------------------+----+\n",
      "|2016-12-31 21:30:05|b'HW2 Autopilot s...|2016|\n",
      "|2016-12-31 02:47:28|b'@vicentes @Drag...|2016|\n",
      "|2016-12-31 02:40:28|b'@DragTimes Yes,...|2016|\n",
      "|2016-12-31 02:34:09|b'Resolving an Au...|2016|\n",
      "|2016-12-30 19:44:02|b'Churchill (non)...|2016|\n",
      "|2016-12-30 14:14:30|b'RT @IridiumComm...|2016|\n",
      "|2016-12-30 00:21:48|b'@andrewket Almo...|2016|\n",
      "|2016-12-27 21:01:43|b'RT @ElectrekCo:...|2016|\n",
      "|2016-12-24 23:21:57|b'Deus ex machina...|2016|\n",
      "|2016-12-24 20:07:00|b'@quipme Occasio...|2016|\n",
      "|2016-12-24 17:21:58|\"b\"\"@djsearle @Fr...|2016|\n",
      "|2016-12-24 17:18:06|\"b\"\"@FredericLamb...|2016|\n",
      "|2016-12-24 17:15:39|\"b\"\"@yamenalhadda...|2016|\n",
      "|2016-12-24 17:13:25|b'@FredericLamber...|2016|\n",
      "|2016-12-24 16:54:46|\"b\"\"@ddaogaru If ...|2016|\n",
      "|2016-12-24 16:41:28|b'@wpconner Good ...|2016|\n",
      "|2016-12-24 16:15:52|    b'@mwangltg Yes'|2016|\n",
      "|2016-12-24 16:10:41|\"b\"\"@SweensChris ...|2016|\n",
      "|2016-12-24 16:03:28|b'@darkdude203 It...|2016|\n",
      "|2016-12-24 16:02:02|b'@CMaggiore50 Ty...|2016|\n",
      "+-------------------+--------------------+----+\n",
      "only showing top 20 rows\n",
      "\n"
     ]
    }
   ],
   "source": [
    "data.show()"
   ]
  },
  {
   "cell_type": "code",
   "execution_count": 65,
   "id": "47278ca6",
   "metadata": {},
   "outputs": [
    {
     "data": {
      "text/plain": [
       "935"
      ]
     },
     "execution_count": 65,
     "metadata": {},
     "output_type": "execute_result"
    }
   ],
   "source": [
    "data.count()"
   ]
  },
  {
   "cell_type": "code",
   "execution_count": 64,
   "id": "8d08c6a3",
   "metadata": {},
   "outputs": [],
   "source": [
    "tweets = data.toPandas()"
   ]
  },
  {
   "cell_type": "code",
   "execution_count": 66,
   "id": "52777f7d",
   "metadata": {},
   "outputs": [],
   "source": [
    "tweets.to_csv(\"CA2Tweets.csv\")"
   ]
  },
  {
   "cell_type": "markdown",
   "id": "9d640ae4",
   "metadata": {},
   "source": [
    "Going to finish this assignment in my usual Windows setup as 935 tweets can be handled by Pandas. Just what I'm most comfortable with"
   ]
  }
 ],
 "metadata": {
  "kernelspec": {
   "display_name": "Python 3 (ipykernel)",
   "language": "python",
   "name": "python3"
  },
  "language_info": {
   "codemirror_mode": {
    "name": "ipython",
    "version": 3
   },
   "file_extension": ".py",
   "mimetype": "text/x-python",
   "name": "python",
   "nbconvert_exporter": "python",
   "pygments_lexer": "ipython3",
   "version": "3.9.12"
  }
 },
 "nbformat": 4,
 "nbformat_minor": 5
}
